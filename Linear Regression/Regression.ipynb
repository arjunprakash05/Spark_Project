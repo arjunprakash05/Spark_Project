{
 "cells": [
  {
   "cell_type": "code",
   "execution_count": 35,
   "metadata": {},
   "outputs": [],
   "source": [
    "import findspark\n",
    "findspark.init('/home/arjun/spark-2.4.0-bin-hadoop2.7')\n",
    "from pyspark.sql import SparkSession\n",
    "spark = SparkSession.builder.appName('lr_housing').getOrCreate()"
   ]
  },
  {
   "cell_type": "code",
   "execution_count": 36,
   "metadata": {},
   "outputs": [],
   "source": [
    "from pyspark.ml.regression import LinearRegression"
   ]
  },
  {
   "cell_type": "code",
   "execution_count": 37,
   "metadata": {},
   "outputs": [],
   "source": [
    "Wholedata = spark.read.csv(\"USA_Housing.csv\",inferSchema=True,header=True)"
   ]
  },
  {
   "cell_type": "code",
   "execution_count": 38,
   "metadata": {},
   "outputs": [
    {
     "name": "stdout",
     "output_type": "stream",
     "text": [
      "root\n",
      " |-- Avg Area Income: double (nullable = true)\n",
      " |-- Avg Area House Age: double (nullable = true)\n",
      " |-- Avg Area Number of Rooms: double (nullable = true)\n",
      " |-- Avg Area Number of Bedrooms: double (nullable = true)\n",
      " |-- Area Population: double (nullable = true)\n",
      " |-- Price: double (nullable = true)\n",
      "\n"
     ]
    }
   ],
   "source": [
    "Wholedata.printSchema()"
   ]
  },
  {
   "cell_type": "code",
   "execution_count": 39,
   "metadata": {},
   "outputs": [
    {
     "name": "stdout",
     "output_type": "stream",
     "text": [
      "+----------------+------------------+------------------------+---------------------------+----------------+----------------+\n",
      "| Avg Area Income|Avg Area House Age|Avg Area Number of Rooms|Avg Area Number of Bedrooms| Area Population|           Price|\n",
      "+----------------+------------------+------------------------+---------------------------+----------------+----------------+\n",
      "|79545.4585743168|      5.6828613216|            7.0091881428|                       4.09|23086.8005026865|1059033.55787012|\n",
      "|79248.6424548257|      6.0028998083|            6.7308210191|                       3.09|40173.0721736448|1505890.91484695|\n",
      "|61287.0671786568|      5.8658898403|            8.5127274304|                       5.13|36882.1593997046|1058987.98787608|\n",
      "| 63345.240046228|      7.1882360945|            5.5867286648|                       3.26|34310.2428309071|1260616.80662945|\n",
      "| 59982.197225708|      5.0405545231|            7.8393877851|                       4.23|26354.1094721031| 630943.48933854|\n",
      "|80175.7541594853|      4.9884077575|            6.1045124394|                       4.04|26748.4284246897|1068138.07439353|\n",
      "|64698.4634278877|      6.0253359069|             8.147759585|                       3.41|60828.2490854072|1502055.81737441|\n",
      "|78394.3392775309|      6.9897797477|            6.6204779952|                       2.42|36516.3589724938|1573936.56447772|\n",
      "|59927.6608133496|      5.3621255696|            6.3931209806|                        2.3|29387.3960028158|798869.532833163|\n",
      "|81885.9271840957|      4.4236717899|            8.1676880035|                        6.1|40149.9657492134|1545154.81264196|\n",
      "|80527.4720829229|      8.0935126806|            5.0427467996|                        4.1|47224.3598402219|1707045.72215806|\n",
      "|50593.6954970428|      4.4965127931|             7.467627404|                       4.49|34343.9918855788|663732.396896327|\n",
      "|39033.8092369824|      7.6717553729|            7.2500293173|                        3.1|39220.3614673725|1042814.09782009|\n",
      "|73163.6634410467|      6.9195348255|            5.9931879009|                       2.27|32326.1231394881|1291331.51848582|\n",
      "|69391.3801843616|      5.3447761767|            8.4064177145|                       4.37|35521.2940331732|1402818.21016585|\n",
      "|73091.8667458232|      5.4431564665|            8.5175127111|                       4.01| 23929.524053268| 1306674.6599512|\n",
      "|79706.9630576574|      5.0678895911|            8.2197711233|                       3.12|39717.8135763095|1556786.60019477|\n",
      "|61929.0770180893|      4.7885502418|            5.0970095544|                        4.3| 24595.901497823|528485.246730596|\n",
      "|  63508.19429943|      5.9471651396|            7.1877738353|                       5.12|35719.6530520309|1019425.93675783|\n",
      "|62085.2764034049|      5.7394108436|            7.0918081042|                       5.49|44922.1067022931|1030591.42921161|\n",
      "+----------------+------------------+------------------------+---------------------------+----------------+----------------+\n",
      "only showing top 20 rows\n",
      "\n"
     ]
    }
   ],
   "source": [
    "Wholedata.show()"
   ]
  },
  {
   "cell_type": "code",
   "execution_count": 40,
   "metadata": {},
   "outputs": [
    {
     "name": "stdout",
     "output_type": "stream",
     "text": [
      "79545.4585743168\n",
      "5.6828613216\n",
      "7.0091881428\n",
      "4.09\n",
      "23086.8005026865\n",
      "1059033.55787012\n"
     ]
    }
   ],
   "source": [
    "for item in Wholedata.head():\n",
    "    print (item)"
   ]
  },
  {
   "cell_type": "code",
   "execution_count": 41,
   "metadata": {},
   "outputs": [],
   "source": [
    "from pyspark.ml.linalg import Vectors\n",
    "from pyspark.ml.feature import VectorAssembler"
   ]
  },
  {
   "cell_type": "code",
   "execution_count": 42,
   "metadata": {},
   "outputs": [
    {
     "data": {
      "text/plain": [
       "DataFrame[Avg Area Income: double, Avg Area House Age: double, Avg Area Number of Rooms: double, Avg Area Number of Bedrooms: double, Area Population: double, Price: double]"
      ]
     },
     "execution_count": 42,
     "metadata": {},
     "output_type": "execute_result"
    }
   ],
   "source": [
    "Wholedata.drop('Address')"
   ]
  },
  {
   "cell_type": "code",
   "execution_count": 43,
   "metadata": {},
   "outputs": [
    {
     "data": {
      "text/plain": [
       "[Row(Avg Area Income=79545.4585743168, Avg Area House Age=5.6828613216, Avg Area Number of Rooms=7.0091881428, Avg Area Number of Bedrooms=4.09, Area Population=23086.8005026865, Price=1059033.55787012),\n",
       " Row(Avg Area Income=79248.6424548257, Avg Area House Age=6.0028998083, Avg Area Number of Rooms=6.7308210191, Avg Area Number of Bedrooms=3.09, Area Population=40173.0721736448, Price=1505890.91484695),\n",
       " Row(Avg Area Income=61287.0671786568, Avg Area House Age=5.8658898403, Avg Area Number of Rooms=8.5127274304, Avg Area Number of Bedrooms=5.13, Area Population=36882.1593997046, Price=1058987.98787608)]"
      ]
     },
     "execution_count": 43,
     "metadata": {},
     "output_type": "execute_result"
    }
   ],
   "source": [
    "Wholedata.head(3)"
   ]
  },
  {
   "cell_type": "code",
   "execution_count": 44,
   "metadata": {},
   "outputs": [
    {
     "data": {
      "text/plain": [
       "Row(Avg Area Income=79545.4585743168, Avg Area House Age=5.6828613216, Avg Area Number of Rooms=7.0091881428, Avg Area Number of Bedrooms=4.09, Area Population=23086.8005026865, Price=1059033.55787012)"
      ]
     },
     "execution_count": 44,
     "metadata": {},
     "output_type": "execute_result"
    }
   ],
   "source": [
    "Wholedata.head()"
   ]
  },
  {
   "cell_type": "code",
   "execution_count": 45,
   "metadata": {},
   "outputs": [
    {
     "data": {
      "text/plain": [
       "['Avg Area Income',\n",
       " 'Avg Area House Age',\n",
       " 'Avg Area Number of Rooms',\n",
       " 'Avg Area Number of Bedrooms',\n",
       " 'Area Population',\n",
       " 'Price']"
      ]
     },
     "execution_count": 45,
     "metadata": {},
     "output_type": "execute_result"
    }
   ],
   "source": [
    "Wholedata.columns"
   ]
  },
  {
   "cell_type": "code",
   "execution_count": 46,
   "metadata": {},
   "outputs": [],
   "source": [
    "assembler=VectorAssembler(inputCols=[\"Avg. Area Income\",\n",
    " \"Avg. Area House Age\",\n",
    " \"Avg. Area Number of Rooms\",\n",
    " \"Avg. Area Number of Bedrooms\",\n",
    " \"Area Population\"],outputCol=\"features\")"
   ]
  },
  {
   "cell_type": "code",
   "execution_count": 47,
   "metadata": {},
   "outputs": [
    {
     "data": {
      "text/plain": [
       "['Avg Area Income',\n",
       " 'Avg Area House Age',\n",
       " 'Avg Area Number of Rooms',\n",
       " 'Avg Area Number of Bedrooms',\n",
       " 'Area Population',\n",
       " 'Price']"
      ]
     },
     "execution_count": 47,
     "metadata": {},
     "output_type": "execute_result"
    }
   ],
   "source": [
    "Wholedata.columns"
   ]
  },
  {
   "cell_type": "code",
   "execution_count": 51,
   "metadata": {},
   "outputs": [],
   "source": [
    "assembler=VectorAssembler(\n",
    "    inputCols=[\"Avg Area Income\",\n",
    "     \"Avg Area House Age\",\n",
    "     \"Avg Area Number of Rooms\",\n",
    "     \"Avg Area Number of Bedrooms\",\n",
    "     'Area Population'],\n",
    "    outputCol=\"features\")\n",
    "output = assembler.transform(Wholedata)"
   ]
  },
  {
   "cell_type": "code",
   "execution_count": 55,
   "metadata": {},
   "outputs": [
    {
     "name": "stdout",
     "output_type": "stream",
     "text": [
      "+--------------------+\n",
      "|            features|\n",
      "+--------------------+\n",
      "|[79545.4585743168...|\n",
      "|[79248.6424548257...|\n",
      "|[61287.0671786568...|\n",
      "|[63345.240046228,...|\n",
      "|[59982.197225708,...|\n",
      "|[80175.7541594853...|\n",
      "|[64698.4634278877...|\n",
      "|[78394.3392775309...|\n",
      "|[59927.6608133496...|\n",
      "|[81885.9271840957...|\n",
      "|[80527.4720829229...|\n",
      "|[50593.6954970428...|\n",
      "|[39033.8092369824...|\n",
      "|[73163.6634410467...|\n",
      "|[69391.3801843616...|\n",
      "|[73091.8667458232...|\n",
      "|[79706.9630576574...|\n",
      "|[61929.0770180893...|\n",
      "|[63508.19429943,5...|\n",
      "|[62085.2764034049...|\n",
      "+--------------------+\n",
      "only showing top 20 rows\n",
      "\n"
     ]
    }
   ],
   "source": [
    "output.select('features').show()"
   ]
  },
  {
   "cell_type": "code",
   "execution_count": 56,
   "metadata": {},
   "outputs": [
    {
     "data": {
      "text/plain": [
       "[Row(Avg Area Income=79545.4585743168, Avg Area House Age=5.6828613216, Avg Area Number of Rooms=7.0091881428, Avg Area Number of Bedrooms=4.09, Area Population=23086.8005026865, Price=1059033.55787012, features=DenseVector([79545.4586, 5.6829, 7.0092, 4.09, 23086.8005]))]"
      ]
     },
     "execution_count": 56,
     "metadata": {},
     "output_type": "execute_result"
    }
   ],
   "source": [
    "output.head(1)"
   ]
  },
  {
   "cell_type": "code",
   "execution_count": 57,
   "metadata": {},
   "outputs": [],
   "source": [
    "dataForModel = output.select(\"features\",'Price')"
   ]
  },
  {
   "cell_type": "code",
   "execution_count": 58,
   "metadata": {},
   "outputs": [],
   "source": [
    "train_data,test_data = dataForModel.randomSplit([0.7,0.3])"
   ]
  },
  {
   "cell_type": "code",
   "execution_count": 60,
   "metadata": {},
   "outputs": [
    {
     "name": "stdout",
     "output_type": "stream",
     "text": [
      "+-------+------------------+\n",
      "|summary|             Price|\n",
      "+-------+------------------+\n",
      "|  count|              1500|\n",
      "|   mean|1217396.1772763303|\n",
      "| stddev|355245.59928471537|\n",
      "|    min|   31140.517620186|\n",
      "|    max|  2271112.74382772|\n",
      "+-------+------------------+\n",
      "\n"
     ]
    }
   ],
   "source": [
    "test_data.describe().show()"
   ]
  },
  {
   "cell_type": "code",
   "execution_count": 61,
   "metadata": {},
   "outputs": [],
   "source": [
    "linearRegressionModel = LinearRegression(labelCol='Price')"
   ]
  },
  {
   "cell_type": "code",
   "execution_count": 63,
   "metadata": {},
   "outputs": [],
   "source": [
    "Model = linearRegressionModel.fit(train_data)"
   ]
  },
  {
   "cell_type": "code",
   "execution_count": 64,
   "metadata": {},
   "outputs": [],
   "source": [
    "test_results = Model.evaluate(test_data)"
   ]
  },
  {
   "cell_type": "code",
   "execution_count": 66,
   "metadata": {},
   "outputs": [
    {
     "name": "stdout",
     "output_type": "stream",
     "text": [
      "+-------------------+\n",
      "|          residuals|\n",
      "+-------------------+\n",
      "| -80911.43542419776|\n",
      "|  66545.82573964333|\n",
      "| 176645.02433646738|\n",
      "| -72528.04471125765|\n",
      "| 139152.29629855906|\n",
      "| 147287.14958614786|\n",
      "|  367406.5299528695|\n",
      "| 121194.00343202672|\n",
      "|-137919.75493268215|\n",
      "| 111550.31972914038|\n",
      "| -77378.93676722911|\n",
      "| -62212.65374314861|\n",
      "| -17809.74674211361|\n",
      "|  33314.82992657641|\n",
      "| -33091.82721239736|\n",
      "| 100488.91140213516|\n",
      "| -74041.00603261899|\n",
      "|  145158.1578062838|\n",
      "|  5281.638665992767|\n",
      "|-121956.65671704535|\n",
      "+-------------------+\n",
      "only showing top 20 rows\n",
      "\n"
     ]
    }
   ],
   "source": [
    "test_results.residuals.show()"
   ]
  },
  {
   "cell_type": "code",
   "execution_count": 79,
   "metadata": {},
   "outputs": [
    {
     "name": "stdout",
     "output_type": "stream",
     "text": [
      "Root Mean Squared Error: 102946.39467024198\n"
     ]
    }
   ],
   "source": [
    "print(\"Root Mean Squared Error: {}\".format(test_results.rootMeanSquaredError))"
   ]
  },
  {
   "cell_type": "code",
   "execution_count": null,
   "metadata": {},
   "outputs": [],
   "source": []
  }
 ],
 "metadata": {
  "kernelspec": {
   "display_name": "Python 3",
   "language": "python",
   "name": "python3"
  },
  "language_info": {
   "codemirror_mode": {
    "name": "ipython",
    "version": 3
   },
   "file_extension": ".py",
   "mimetype": "text/x-python",
   "name": "python",
   "nbconvert_exporter": "python",
   "pygments_lexer": "ipython3",
   "version": "3.6.4"
  }
 },
 "nbformat": 4,
 "nbformat_minor": 2
}
