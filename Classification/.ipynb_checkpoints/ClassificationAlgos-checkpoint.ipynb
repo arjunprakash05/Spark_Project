{
 "cells": [
  {
   "cell_type": "markdown",
   "metadata": {},
   "source": [
    "# Classification using different Algorithms"
   ]
  },
  {
   "cell_type": "code",
   "execution_count": 1,
   "metadata": {},
   "outputs": [],
   "source": [
    "#import findspark\n",
    "#findspark.init('/home/arjun/spark-2.4.0-bin-hadoop2.7')\n",
    "\n",
    "from pyspark.sql import SparkSession"
   ]
  },
  {
   "cell_type": "code",
   "execution_count": 2,
   "metadata": {},
   "outputs": [],
   "source": [
    "spark = SparkSession.builder.appName('Project_Logistic').getOrCreate()"
   ]
  },
  {
   "cell_type": "code",
   "execution_count": 3,
   "metadata": {},
   "outputs": [],
   "source": [
    "data = spark.read.csv('nba.games.stats.csv',inferSchema=True,header=True)"
   ]
  },
  {
   "cell_type": "code",
   "execution_count": 4,
   "metadata": {},
   "outputs": [
    {
     "name": "stdout",
     "output_type": "stream",
     "text": [
      "root\n",
      " |-- Team: string (nullable = true)\n",
      " |-- Home: string (nullable = true)\n",
      " |-- Opponent: string (nullable = true)\n",
      " |-- WINorLOSS: string (nullable = true)\n",
      " |-- TeamPoints: integer (nullable = true)\n",
      " |-- OpponentPoints: integer (nullable = true)\n",
      " |-- FieldGoals: integer (nullable = true)\n",
      " |-- FieldGoalsAttempted: integer (nullable = true)\n",
      " |-- FieldGoalsC: double (nullable = true)\n",
      " |-- X3PointShots: integer (nullable = true)\n",
      " |-- X3PointShotsAttempted: integer (nullable = true)\n",
      " |-- X3PointShotsC: double (nullable = true)\n",
      " |-- FreeThrows: integer (nullable = true)\n",
      " |-- FreeThrowsAttempted: integer (nullable = true)\n",
      " |-- FreeThrowsC: double (nullable = true)\n",
      " |-- OffRebounds: integer (nullable = true)\n",
      " |-- TotalRebounds: integer (nullable = true)\n",
      " |-- Assists: integer (nullable = true)\n",
      " |-- Steals: integer (nullable = true)\n",
      " |-- Blocks: integer (nullable = true)\n",
      " |-- Turnovers: integer (nullable = true)\n",
      " |-- TotalFouls: integer (nullable = true)\n",
      " |-- OppFieldGoals: integer (nullable = true)\n",
      " |-- OppFieldGoalsAttempted: integer (nullable = true)\n",
      " |-- OppFieldGoalsC: double (nullable = true)\n",
      " |-- Opp3PointShots: integer (nullable = true)\n",
      " |-- Opp3PointShotsAttempted: integer (nullable = true)\n",
      " |-- Opp3PointShotsC: double (nullable = true)\n",
      " |-- OppFreeThrows: integer (nullable = true)\n",
      " |-- OppFreeThrowsAttempted: integer (nullable = true)\n",
      " |-- OppFreeThrowsC: double (nullable = true)\n",
      " |-- OppOffRebounds: integer (nullable = true)\n",
      " |-- OppTotalRebounds: integer (nullable = true)\n",
      " |-- OppAssists: integer (nullable = true)\n",
      " |-- OppSteals: integer (nullable = true)\n",
      " |-- OppBlocks: integer (nullable = true)\n",
      " |-- OppTurnovers: integer (nullable = true)\n",
      " |-- OppTotalFouls: integer (nullable = true)\n",
      "\n"
     ]
    }
   ],
   "source": [
    "data.printSchema()"
   ]
  },
  {
   "cell_type": "code",
   "execution_count": 5,
   "metadata": {},
   "outputs": [
    {
     "data": {
      "text/plain": [
       "['Team',\n",
       " 'Home',\n",
       " 'Opponent',\n",
       " 'WINorLOSS',\n",
       " 'TeamPoints',\n",
       " 'OpponentPoints',\n",
       " 'FieldGoals',\n",
       " 'FieldGoalsAttempted',\n",
       " 'FieldGoalsC',\n",
       " 'X3PointShots',\n",
       " 'X3PointShotsAttempted',\n",
       " 'X3PointShotsC',\n",
       " 'FreeThrows',\n",
       " 'FreeThrowsAttempted',\n",
       " 'FreeThrowsC',\n",
       " 'OffRebounds',\n",
       " 'TotalRebounds',\n",
       " 'Assists',\n",
       " 'Steals',\n",
       " 'Blocks',\n",
       " 'Turnovers',\n",
       " 'TotalFouls',\n",
       " 'OppFieldGoals',\n",
       " 'OppFieldGoalsAttempted',\n",
       " 'OppFieldGoalsC',\n",
       " 'Opp3PointShots',\n",
       " 'Opp3PointShotsAttempted',\n",
       " 'Opp3PointShotsC',\n",
       " 'OppFreeThrows',\n",
       " 'OppFreeThrowsAttempted',\n",
       " 'OppFreeThrowsC',\n",
       " 'OppOffRebounds',\n",
       " 'OppTotalRebounds',\n",
       " 'OppAssists',\n",
       " 'OppSteals',\n",
       " 'OppBlocks',\n",
       " 'OppTurnovers',\n",
       " 'OppTotalFouls']"
      ]
     },
     "execution_count": 5,
     "metadata": {},
     "output_type": "execute_result"
    }
   ],
   "source": [
    "data.columns"
   ]
  },
  {
   "cell_type": "code",
   "execution_count": 6,
   "metadata": {},
   "outputs": [
    {
     "data": {
      "text/plain": [
       "[Row(Team='ATL', Home='Away', Opponent='TOR', WINorLOSS='L', TeamPoints=102, OpponentPoints=109, FieldGoals=40, FieldGoalsAttempted=80, FieldGoalsC=0.5, X3PointShots=13, X3PointShotsAttempted=22, X3PointShotsC=0.591, FreeThrows=9, FreeThrowsAttempted=17, FreeThrowsC=0.529, OffRebounds=10, TotalRebounds=42, Assists=26, Steals=6, Blocks=8, Turnovers=17, TotalFouls=24, OppFieldGoals=37, OppFieldGoalsAttempted=90, OppFieldGoalsC=0.411, Opp3PointShots=8, Opp3PointShotsAttempted=26, Opp3PointShotsC=0.308, OppFreeThrows=27, OppFreeThrowsAttempted=33, OppFreeThrowsC=0.818, OppOffRebounds=16, OppTotalRebounds=48, OppAssists=26, OppSteals=13, OppBlocks=9, OppTurnovers=9, OppTotalFouls=22, WINorLOSS_cat=0.0),\n",
       " Row(Team='ATL', Home='Home', Opponent='IND', WINorLOSS='W', TeamPoints=102, OpponentPoints=92, FieldGoals=35, FieldGoalsAttempted=69, FieldGoalsC=0.507, X3PointShots=7, X3PointShotsAttempted=20, X3PointShotsC=0.35, FreeThrows=25, FreeThrowsAttempted=33, FreeThrowsC=0.758, OffRebounds=3, TotalRebounds=37, Assists=26, Steals=10, Blocks=6, Turnovers=12, TotalFouls=20, OppFieldGoals=31, OppFieldGoalsAttempted=81, OppFieldGoalsC=0.383, Opp3PointShots=12, Opp3PointShotsAttempted=32, Opp3PointShotsC=0.375, OppFreeThrows=18, OppFreeThrowsAttempted=21, OppFreeThrowsC=0.857, OppOffRebounds=11, OppTotalRebounds=44, OppAssists=25, OppSteals=5, OppBlocks=5, OppTurnovers=18, OppTotalFouls=26, WINorLOSS_cat=1.0),\n",
       " Row(Team='ATL', Home='Away', Opponent='SAS', WINorLOSS='L', TeamPoints=92, OpponentPoints=94, FieldGoals=38, FieldGoalsAttempted=92, FieldGoalsC=0.413, X3PointShots=8, X3PointShotsAttempted=25, X3PointShotsC=0.32, FreeThrows=8, FreeThrowsAttempted=11, FreeThrowsC=0.727, OffRebounds=10, TotalRebounds=37, Assists=26, Steals=14, Blocks=5, Turnovers=13, TotalFouls=25, OppFieldGoals=31, OppFieldGoalsAttempted=69, OppFieldGoalsC=0.449, Opp3PointShots=5, Opp3PointShotsAttempted=17, Opp3PointShotsC=0.294, OppFreeThrows=27, OppFreeThrowsAttempted=38, OppFreeThrowsC=0.711, OppOffRebounds=11, OppTotalRebounds=50, OppAssists=25, OppSteals=7, OppBlocks=9, OppTurnovers=19, OppTotalFouls=15, WINorLOSS_cat=0.0),\n",
       " Row(Team='ATL', Home='Away', Opponent='CHO', WINorLOSS='L', TeamPoints=119, OpponentPoints=122, FieldGoals=43, FieldGoalsAttempted=93, FieldGoalsC=0.462, X3PointShots=13, X3PointShotsAttempted=33, X3PointShotsC=0.394, FreeThrows=20, FreeThrowsAttempted=26, FreeThrowsC=0.769, OffRebounds=7, TotalRebounds=38, Assists=28, Steals=8, Blocks=3, Turnovers=19, TotalFouls=33, OppFieldGoals=48, OppFieldGoalsAttempted=97, OppFieldGoalsC=0.495, Opp3PointShots=6, Opp3PointShotsAttempted=21, Opp3PointShotsC=0.286, OppFreeThrows=20, OppFreeThrowsAttempted=27, OppFreeThrowsC=0.741, OppOffRebounds=11, OppTotalRebounds=51, OppAssists=31, OppSteals=6, OppBlocks=7, OppTurnovers=19, OppTotalFouls=30, WINorLOSS_cat=0.0),\n",
       " Row(Team='ATL', Home='Home', Opponent='NYK', WINorLOSS='W', TeamPoints=103, OpponentPoints=96, FieldGoals=33, FieldGoalsAttempted=81, FieldGoalsC=0.407, X3PointShots=9, X3PointShotsAttempted=22, X3PointShotsC=0.409, FreeThrows=28, FreeThrowsAttempted=36, FreeThrowsC=0.778, OffRebounds=12, TotalRebounds=41, Assists=18, Steals=10, Blocks=5, Turnovers=8, TotalFouls=17, OppFieldGoals=40, OppFieldGoalsAttempted=84, OppFieldGoalsC=0.476, Opp3PointShots=8, Opp3PointShotsAttempted=21, Opp3PointShotsC=0.381, OppFreeThrows=8, OppFreeThrowsAttempted=11, OppFreeThrowsC=0.727, OppOffRebounds=13, OppTotalRebounds=44, OppAssists=26, OppSteals=2, OppBlocks=6, OppTurnovers=15, OppTotalFouls=29, WINorLOSS_cat=1.0)]"
      ]
     },
     "execution_count": 6,
     "metadata": {},
     "output_type": "execute_result"
    }
   ],
   "source": [
    "from pyspark.ml.feature import StringIndexer\n",
    "indexer = StringIndexer(inputCol=\"WINorLOSS\", outputCol=\"WINorLOSS_cat\")\n",
    "indexed = indexer.fit(data).transform(data)\n",
    "indexed.head(5)"
   ]
  },
  {
   "cell_type": "code",
   "execution_count": 7,
   "metadata": {},
   "outputs": [
    {
     "data": {
      "text/plain": [
       "[Row(Team='ATL', Home='Away', Opponent='TOR', WINorLOSS='L', TeamPoints=102, OpponentPoints=109, FieldGoals=40, FieldGoalsAttempted=80, FieldGoalsC=0.5, X3PointShots=13, X3PointShotsAttempted=22, X3PointShotsC=0.591, FreeThrows=9, FreeThrowsAttempted=17, FreeThrowsC=0.529, OffRebounds=10, TotalRebounds=42, Assists=26, Steals=6, Blocks=8, Turnovers=17, TotalFouls=24, OppFieldGoals=37, OppFieldGoalsAttempted=90, OppFieldGoalsC=0.411, Opp3PointShots=8, Opp3PointShotsAttempted=26, Opp3PointShotsC=0.308, OppFreeThrows=27, OppFreeThrowsAttempted=33, OppFreeThrowsC=0.818, OppOffRebounds=16, OppTotalRebounds=48, OppAssists=26, OppSteals=13, OppBlocks=9, OppTurnovers=9, OppTotalFouls=22, Team_cat=1.0),\n",
       " Row(Team='ATL', Home='Home', Opponent='IND', WINorLOSS='W', TeamPoints=102, OpponentPoints=92, FieldGoals=35, FieldGoalsAttempted=69, FieldGoalsC=0.507, X3PointShots=7, X3PointShotsAttempted=20, X3PointShotsC=0.35, FreeThrows=25, FreeThrowsAttempted=33, FreeThrowsC=0.758, OffRebounds=3, TotalRebounds=37, Assists=26, Steals=10, Blocks=6, Turnovers=12, TotalFouls=20, OppFieldGoals=31, OppFieldGoalsAttempted=81, OppFieldGoalsC=0.383, Opp3PointShots=12, Opp3PointShotsAttempted=32, Opp3PointShotsC=0.375, OppFreeThrows=18, OppFreeThrowsAttempted=21, OppFreeThrowsC=0.857, OppOffRebounds=11, OppTotalRebounds=44, OppAssists=25, OppSteals=5, OppBlocks=5, OppTurnovers=18, OppTotalFouls=26, Team_cat=1.0),\n",
       " Row(Team='ATL', Home='Away', Opponent='SAS', WINorLOSS='L', TeamPoints=92, OpponentPoints=94, FieldGoals=38, FieldGoalsAttempted=92, FieldGoalsC=0.413, X3PointShots=8, X3PointShotsAttempted=25, X3PointShotsC=0.32, FreeThrows=8, FreeThrowsAttempted=11, FreeThrowsC=0.727, OffRebounds=10, TotalRebounds=37, Assists=26, Steals=14, Blocks=5, Turnovers=13, TotalFouls=25, OppFieldGoals=31, OppFieldGoalsAttempted=69, OppFieldGoalsC=0.449, Opp3PointShots=5, Opp3PointShotsAttempted=17, Opp3PointShotsC=0.294, OppFreeThrows=27, OppFreeThrowsAttempted=38, OppFreeThrowsC=0.711, OppOffRebounds=11, OppTotalRebounds=50, OppAssists=25, OppSteals=7, OppBlocks=9, OppTurnovers=19, OppTotalFouls=15, Team_cat=1.0),\n",
       " Row(Team='ATL', Home='Away', Opponent='CHO', WINorLOSS='L', TeamPoints=119, OpponentPoints=122, FieldGoals=43, FieldGoalsAttempted=93, FieldGoalsC=0.462, X3PointShots=13, X3PointShotsAttempted=33, X3PointShotsC=0.394, FreeThrows=20, FreeThrowsAttempted=26, FreeThrowsC=0.769, OffRebounds=7, TotalRebounds=38, Assists=28, Steals=8, Blocks=3, Turnovers=19, TotalFouls=33, OppFieldGoals=48, OppFieldGoalsAttempted=97, OppFieldGoalsC=0.495, Opp3PointShots=6, Opp3PointShotsAttempted=21, Opp3PointShotsC=0.286, OppFreeThrows=20, OppFreeThrowsAttempted=27, OppFreeThrowsC=0.741, OppOffRebounds=11, OppTotalRebounds=51, OppAssists=31, OppSteals=6, OppBlocks=7, OppTurnovers=19, OppTotalFouls=30, Team_cat=1.0),\n",
       " Row(Team='ATL', Home='Home', Opponent='NYK', WINorLOSS='W', TeamPoints=103, OpponentPoints=96, FieldGoals=33, FieldGoalsAttempted=81, FieldGoalsC=0.407, X3PointShots=9, X3PointShotsAttempted=22, X3PointShotsC=0.409, FreeThrows=28, FreeThrowsAttempted=36, FreeThrowsC=0.778, OffRebounds=12, TotalRebounds=41, Assists=18, Steals=10, Blocks=5, Turnovers=8, TotalFouls=17, OppFieldGoals=40, OppFieldGoalsAttempted=84, OppFieldGoalsC=0.476, Opp3PointShots=8, Opp3PointShotsAttempted=21, Opp3PointShotsC=0.381, OppFreeThrows=8, OppFreeThrowsAttempted=11, OppFreeThrowsC=0.727, OppOffRebounds=13, OppTotalRebounds=44, OppAssists=26, OppSteals=2, OppBlocks=6, OppTurnovers=15, OppTotalFouls=29, Team_cat=1.0)]"
      ]
     },
     "execution_count": 7,
     "metadata": {},
     "output_type": "execute_result"
    }
   ],
   "source": [
    "from pyspark.ml.feature import StringIndexer\n",
    "indexerT = StringIndexer(inputCol=\"Team\", outputCol=\"Team_cat\")\n",
    "indexedT = indexerT.fit(data).transform(data)\n",
    "indexedT.head(5)"
   ]
  },
  {
   "cell_type": "code",
   "execution_count": 8,
   "metadata": {},
   "outputs": [
    {
     "name": "stdout",
     "output_type": "stream",
     "text": [
      "Wall time: 875 ms\n"
     ]
    }
   ],
   "source": [
    "%%time\n",
    "indexerW = StringIndexer(inputCol=\"WINorLOSS\", outputCol=\"WINorLOSS_cat\")\n",
    "indexedW = indexerW.fit(indexedT).transform(indexedT)\n",
    "indexedW.head(5)"
   ]
  },
  {
   "cell_type": "code",
   "execution_count": 9,
   "metadata": {},
   "outputs": [
    {
     "data": {
      "text/plain": [
       "[Row(Team='ATL', Home='Away', Opponent='TOR', WINorLOSS='L', TeamPoints=102, OpponentPoints=109, FieldGoals=40, FieldGoalsAttempted=80, FieldGoalsC=0.5, X3PointShots=13, X3PointShotsAttempted=22, X3PointShotsC=0.591, FreeThrows=9, FreeThrowsAttempted=17, FreeThrowsC=0.529, OffRebounds=10, TotalRebounds=42, Assists=26, Steals=6, Blocks=8, Turnovers=17, TotalFouls=24, OppFieldGoals=37, OppFieldGoalsAttempted=90, OppFieldGoalsC=0.411, Opp3PointShots=8, Opp3PointShotsAttempted=26, Opp3PointShotsC=0.308, OppFreeThrows=27, OppFreeThrowsAttempted=33, OppFreeThrowsC=0.818, OppOffRebounds=16, OppTotalRebounds=48, OppAssists=26, OppSteals=13, OppBlocks=9, OppTurnovers=9, OppTotalFouls=22, Team_cat=1.0, WINorLOSS_cat=0.0, Opponent_cat=4.0),\n",
       " Row(Team='ATL', Home='Home', Opponent='IND', WINorLOSS='W', TeamPoints=102, OpponentPoints=92, FieldGoals=35, FieldGoalsAttempted=69, FieldGoalsC=0.507, X3PointShots=7, X3PointShotsAttempted=20, X3PointShotsC=0.35, FreeThrows=25, FreeThrowsAttempted=33, FreeThrowsC=0.758, OffRebounds=3, TotalRebounds=37, Assists=26, Steals=10, Blocks=6, Turnovers=12, TotalFouls=20, OppFieldGoals=31, OppFieldGoalsAttempted=81, OppFieldGoalsC=0.383, Opp3PointShots=12, Opp3PointShotsAttempted=32, Opp3PointShotsC=0.375, OppFreeThrows=18, OppFreeThrowsAttempted=21, OppFreeThrowsC=0.857, OppOffRebounds=11, OppTotalRebounds=44, OppAssists=25, OppSteals=5, OppBlocks=5, OppTurnovers=18, OppTotalFouls=26, Team_cat=1.0, WINorLOSS_cat=1.0, Opponent_cat=26.0),\n",
       " Row(Team='ATL', Home='Away', Opponent='SAS', WINorLOSS='L', TeamPoints=92, OpponentPoints=94, FieldGoals=38, FieldGoalsAttempted=92, FieldGoalsC=0.413, X3PointShots=8, X3PointShotsAttempted=25, X3PointShotsC=0.32, FreeThrows=8, FreeThrowsAttempted=11, FreeThrowsC=0.727, OffRebounds=10, TotalRebounds=37, Assists=26, Steals=14, Blocks=5, Turnovers=13, TotalFouls=25, OppFieldGoals=31, OppFieldGoalsAttempted=69, OppFieldGoalsC=0.449, Opp3PointShots=5, Opp3PointShotsAttempted=17, Opp3PointShotsC=0.294, OppFreeThrows=27, OppFreeThrowsAttempted=38, OppFreeThrowsC=0.711, OppOffRebounds=11, OppTotalRebounds=50, OppAssists=25, OppSteals=7, OppBlocks=9, OppTurnovers=19, OppTotalFouls=15, Team_cat=1.0, WINorLOSS_cat=0.0, Opponent_cat=27.0),\n",
       " Row(Team='ATL', Home='Away', Opponent='CHO', WINorLOSS='L', TeamPoints=119, OpponentPoints=122, FieldGoals=43, FieldGoalsAttempted=93, FieldGoalsC=0.462, X3PointShots=13, X3PointShotsAttempted=33, X3PointShotsC=0.394, FreeThrows=20, FreeThrowsAttempted=26, FreeThrowsC=0.769, OffRebounds=7, TotalRebounds=38, Assists=28, Steals=8, Blocks=3, Turnovers=19, TotalFouls=33, OppFieldGoals=48, OppFieldGoalsAttempted=97, OppFieldGoalsC=0.495, Opp3PointShots=6, Opp3PointShotsAttempted=21, Opp3PointShotsC=0.286, OppFreeThrows=20, OppFreeThrowsAttempted=27, OppFreeThrowsC=0.741, OppOffRebounds=11, OppTotalRebounds=51, OppAssists=31, OppSteals=6, OppBlocks=7, OppTurnovers=19, OppTotalFouls=30, Team_cat=1.0, WINorLOSS_cat=0.0, Opponent_cat=5.0),\n",
       " Row(Team='ATL', Home='Home', Opponent='NYK', WINorLOSS='W', TeamPoints=103, OpponentPoints=96, FieldGoals=33, FieldGoalsAttempted=81, FieldGoalsC=0.407, X3PointShots=9, X3PointShotsAttempted=22, X3PointShotsC=0.409, FreeThrows=28, FreeThrowsAttempted=36, FreeThrowsC=0.778, OffRebounds=12, TotalRebounds=41, Assists=18, Steals=10, Blocks=5, Turnovers=8, TotalFouls=17, OppFieldGoals=40, OppFieldGoalsAttempted=84, OppFieldGoalsC=0.476, Opp3PointShots=8, Opp3PointShotsAttempted=21, Opp3PointShotsC=0.381, OppFreeThrows=8, OppFreeThrowsAttempted=11, OppFreeThrowsC=0.727, OppOffRebounds=13, OppTotalRebounds=44, OppAssists=26, OppSteals=2, OppBlocks=6, OppTurnovers=15, OppTotalFouls=29, Team_cat=1.0, WINorLOSS_cat=1.0, Opponent_cat=11.0)]"
      ]
     },
     "execution_count": 9,
     "metadata": {},
     "output_type": "execute_result"
    }
   ],
   "source": [
    "indexerO = StringIndexer(inputCol=\"Opponent\", outputCol=\"Opponent_cat\")\n",
    "indexedO = indexerO.fit(indexedW).transform(indexedW)\n",
    "indexedO.head(5)"
   ]
  },
  {
   "cell_type": "code",
   "execution_count": 10,
   "metadata": {},
   "outputs": [
    {
     "data": {
      "text/plain": [
       "[Row(Team='ATL', Home='Away', Opponent='TOR', WINorLOSS='L', TeamPoints=102, OpponentPoints=109, FieldGoals=40, FieldGoalsAttempted=80, FieldGoalsC=0.5, X3PointShots=13, X3PointShotsAttempted=22, X3PointShotsC=0.591, FreeThrows=9, FreeThrowsAttempted=17, FreeThrowsC=0.529, OffRebounds=10, TotalRebounds=42, Assists=26, Steals=6, Blocks=8, Turnovers=17, TotalFouls=24, OppFieldGoals=37, OppFieldGoalsAttempted=90, OppFieldGoalsC=0.411, Opp3PointShots=8, Opp3PointShotsAttempted=26, Opp3PointShotsC=0.308, OppFreeThrows=27, OppFreeThrowsAttempted=33, OppFreeThrowsC=0.818, OppOffRebounds=16, OppTotalRebounds=48, OppAssists=26, OppSteals=13, OppBlocks=9, OppTurnovers=9, OppTotalFouls=22, Team_cat=1.0, WINorLOSS_cat=0.0, Opponent_cat=4.0, Home_cat=0.0),\n",
       " Row(Team='ATL', Home='Home', Opponent='IND', WINorLOSS='W', TeamPoints=102, OpponentPoints=92, FieldGoals=35, FieldGoalsAttempted=69, FieldGoalsC=0.507, X3PointShots=7, X3PointShotsAttempted=20, X3PointShotsC=0.35, FreeThrows=25, FreeThrowsAttempted=33, FreeThrowsC=0.758, OffRebounds=3, TotalRebounds=37, Assists=26, Steals=10, Blocks=6, Turnovers=12, TotalFouls=20, OppFieldGoals=31, OppFieldGoalsAttempted=81, OppFieldGoalsC=0.383, Opp3PointShots=12, Opp3PointShotsAttempted=32, Opp3PointShotsC=0.375, OppFreeThrows=18, OppFreeThrowsAttempted=21, OppFreeThrowsC=0.857, OppOffRebounds=11, OppTotalRebounds=44, OppAssists=25, OppSteals=5, OppBlocks=5, OppTurnovers=18, OppTotalFouls=26, Team_cat=1.0, WINorLOSS_cat=1.0, Opponent_cat=26.0, Home_cat=1.0),\n",
       " Row(Team='ATL', Home='Away', Opponent='SAS', WINorLOSS='L', TeamPoints=92, OpponentPoints=94, FieldGoals=38, FieldGoalsAttempted=92, FieldGoalsC=0.413, X3PointShots=8, X3PointShotsAttempted=25, X3PointShotsC=0.32, FreeThrows=8, FreeThrowsAttempted=11, FreeThrowsC=0.727, OffRebounds=10, TotalRebounds=37, Assists=26, Steals=14, Blocks=5, Turnovers=13, TotalFouls=25, OppFieldGoals=31, OppFieldGoalsAttempted=69, OppFieldGoalsC=0.449, Opp3PointShots=5, Opp3PointShotsAttempted=17, Opp3PointShotsC=0.294, OppFreeThrows=27, OppFreeThrowsAttempted=38, OppFreeThrowsC=0.711, OppOffRebounds=11, OppTotalRebounds=50, OppAssists=25, OppSteals=7, OppBlocks=9, OppTurnovers=19, OppTotalFouls=15, Team_cat=1.0, WINorLOSS_cat=0.0, Opponent_cat=27.0, Home_cat=0.0),\n",
       " Row(Team='ATL', Home='Away', Opponent='CHO', WINorLOSS='L', TeamPoints=119, OpponentPoints=122, FieldGoals=43, FieldGoalsAttempted=93, FieldGoalsC=0.462, X3PointShots=13, X3PointShotsAttempted=33, X3PointShotsC=0.394, FreeThrows=20, FreeThrowsAttempted=26, FreeThrowsC=0.769, OffRebounds=7, TotalRebounds=38, Assists=28, Steals=8, Blocks=3, Turnovers=19, TotalFouls=33, OppFieldGoals=48, OppFieldGoalsAttempted=97, OppFieldGoalsC=0.495, Opp3PointShots=6, Opp3PointShotsAttempted=21, Opp3PointShotsC=0.286, OppFreeThrows=20, OppFreeThrowsAttempted=27, OppFreeThrowsC=0.741, OppOffRebounds=11, OppTotalRebounds=51, OppAssists=31, OppSteals=6, OppBlocks=7, OppTurnovers=19, OppTotalFouls=30, Team_cat=1.0, WINorLOSS_cat=0.0, Opponent_cat=5.0, Home_cat=0.0),\n",
       " Row(Team='ATL', Home='Home', Opponent='NYK', WINorLOSS='W', TeamPoints=103, OpponentPoints=96, FieldGoals=33, FieldGoalsAttempted=81, FieldGoalsC=0.407, X3PointShots=9, X3PointShotsAttempted=22, X3PointShotsC=0.409, FreeThrows=28, FreeThrowsAttempted=36, FreeThrowsC=0.778, OffRebounds=12, TotalRebounds=41, Assists=18, Steals=10, Blocks=5, Turnovers=8, TotalFouls=17, OppFieldGoals=40, OppFieldGoalsAttempted=84, OppFieldGoalsC=0.476, Opp3PointShots=8, Opp3PointShotsAttempted=21, Opp3PointShotsC=0.381, OppFreeThrows=8, OppFreeThrowsAttempted=11, OppFreeThrowsC=0.727, OppOffRebounds=13, OppTotalRebounds=44, OppAssists=26, OppSteals=2, OppBlocks=6, OppTurnovers=15, OppTotalFouls=29, Team_cat=1.0, WINorLOSS_cat=1.0, Opponent_cat=11.0, Home_cat=1.0)]"
      ]
     },
     "execution_count": 10,
     "metadata": {},
     "output_type": "execute_result"
    }
   ],
   "source": [
    "indexerH = StringIndexer(inputCol=\"Home\", outputCol=\"Home_cat\")\n",
    "indexedH = indexerH.fit(indexedO).transform(indexedO)\n",
    "indexedH.head(5)"
   ]
  },
  {
   "cell_type": "code",
   "execution_count": 11,
   "metadata": {},
   "outputs": [
    {
     "data": {
      "text/plain": [
       "['Team',\n",
       " 'Home',\n",
       " 'Opponent',\n",
       " 'WINorLOSS',\n",
       " 'TeamPoints',\n",
       " 'OpponentPoints',\n",
       " 'FieldGoals',\n",
       " 'FieldGoalsAttempted',\n",
       " 'FieldGoalsC',\n",
       " 'X3PointShots',\n",
       " 'X3PointShotsAttempted',\n",
       " 'X3PointShotsC',\n",
       " 'FreeThrows',\n",
       " 'FreeThrowsAttempted',\n",
       " 'FreeThrowsC',\n",
       " 'OffRebounds',\n",
       " 'TotalRebounds',\n",
       " 'Assists',\n",
       " 'Steals',\n",
       " 'Blocks',\n",
       " 'Turnovers',\n",
       " 'TotalFouls',\n",
       " 'OppFieldGoals',\n",
       " 'OppFieldGoalsAttempted',\n",
       " 'OppFieldGoalsC',\n",
       " 'Opp3PointShots',\n",
       " 'Opp3PointShotsAttempted',\n",
       " 'Opp3PointShotsC',\n",
       " 'OppFreeThrows',\n",
       " 'OppFreeThrowsAttempted',\n",
       " 'OppFreeThrowsC',\n",
       " 'OppOffRebounds',\n",
       " 'OppTotalRebounds',\n",
       " 'OppAssists',\n",
       " 'OppSteals',\n",
       " 'OppBlocks',\n",
       " 'OppTurnovers',\n",
       " 'OppTotalFouls',\n",
       " 'Team_cat',\n",
       " 'WINorLOSS_cat',\n",
       " 'Opponent_cat',\n",
       " 'Home_cat']"
      ]
     },
     "execution_count": 11,
     "metadata": {},
     "output_type": "execute_result"
    }
   ],
   "source": [
    "from pyspark.ml.linalg import Vectors\n",
    "from pyspark.ml.feature import VectorAssembler\n",
    "indexedH.columns"
   ]
  },
  {
   "cell_type": "code",
   "execution_count": 12,
   "metadata": {},
   "outputs": [],
   "source": [
    "assembler = VectorAssembler(\n",
    "  inputCols=['Team_cat',\n",
    "             'Opponent_cat',\n",
    "             'Home_cat',\n",
    "             'TeamPoints',\n",
    "             'OpponentPoints',\n",
    "             'FieldGoals',\n",
    "             'FieldGoalsAttempted',\n",
    "             'FieldGoalsC',\n",
    "             'X3PointShots',\n",
    "             'X3PointShotsAttempted',\n",
    "             'X3PointShotsC',\n",
    "             'FreeThrows',\n",
    "             'FreeThrowsAttempted',\n",
    "             'FreeThrowsC',\n",
    "             'OffRebounds',\n",
    "             'TotalRebounds',\n",
    "             'Assists',\n",
    "             'Steals',\n",
    "             'Blocks',\n",
    "             'Turnovers',\n",
    "             'TotalFouls',\n",
    "             'OppFieldGoals',\n",
    "             'OppFieldGoalsAttempted',\n",
    "             'OppFieldGoalsC',\n",
    "             'Opp3PointShots',\n",
    "             'Opp3PointShotsAttempted',\n",
    "             'Opp3PointShotsC',\n",
    "             'OppFreeThrows',\n",
    "             'OppFreeThrowsAttempted',\n",
    "             'OppFreeThrowsC',\n",
    "             'OppOffRebounds',\n",
    "             'OppTotalRebounds',\n",
    "             'OppAssists',\n",
    "             'OppSteals',\n",
    "             'OppBlocks',\n",
    "             'OppTurnovers',\n",
    "             'OppTotalFouls'],\n",
    "    outputCol=\"features\")"
   ]
  },
  {
   "cell_type": "code",
   "execution_count": 13,
   "metadata": {},
   "outputs": [],
   "source": [
    "output = assembler.transform(indexedH)"
   ]
  },
  {
   "cell_type": "code",
   "execution_count": 14,
   "metadata": {},
   "outputs": [
    {
     "name": "stdout",
     "output_type": "stream",
     "text": [
      "+--------------------+-------------+\n",
      "|            features|WINorLOSS_cat|\n",
      "+--------------------+-------------+\n",
      "|[1.0,4.0,0.0,102....|          0.0|\n",
      "|[1.0,26.0,1.0,102...|          1.0|\n",
      "|[1.0,27.0,0.0,92....|          0.0|\n",
      "|[1.0,5.0,0.0,119....|          0.0|\n",
      "|[1.0,11.0,1.0,103...|          1.0|\n",
      "|[1.0,11.0,0.0,91....|          1.0|\n",
      "|[1.0,14.0,1.0,100...|          1.0|\n",
      "|[1.0,2.0,1.0,114....|          1.0|\n",
      "|[1.0,25.0,0.0,94....|          0.0|\n",
      "|[1.0,22.0,1.0,109...|          0.0|\n",
      "|[1.0,20.0,1.0,99....|          1.0|\n",
      "|[1.0,10.0,0.0,106...|          1.0|\n",
      "|[1.0,4.0,1.0,115....|          0.0|\n",
      "|[1.0,13.0,1.0,100...|          1.0|\n",
      "|[1.0,5.0,1.0,105....|          1.0|\n",
      "|[1.0,24.0,1.0,109...|          1.0|\n",
      "|[1.0,2.0,0.0,112....|          1.0|\n",
      "|[1.0,0.0,0.0,98.0...|          1.0|\n",
      "|[1.0,19.0,1.0,96....|          1.0|\n",
      "|[1.0,26.0,0.0,108...|          1.0|\n",
      "+--------------------+-------------+\n",
      "only showing top 20 rows\n",
      "\n"
     ]
    }
   ],
   "source": [
    "output.select(\"features\", \"WINorLOSS_cat\").show()"
   ]
  },
  {
   "cell_type": "code",
   "execution_count": 15,
   "metadata": {},
   "outputs": [],
   "source": [
    "final_data = output.select(\"features\", \"WINorLOSS_cat\")"
   ]
  },
  {
   "cell_type": "code",
   "execution_count": 16,
   "metadata": {},
   "outputs": [],
   "source": [
    "#"
   ]
  },
  {
   "cell_type": "code",
   "execution_count": 17,
   "metadata": {},
   "outputs": [
    {
     "name": "stdout",
     "output_type": "stream",
     "text": [
      "Wall time: 35.9 ms\n"
     ]
    }
   ],
   "source": [
    "%%time\n",
    "train_data,test_data = final_data.randomSplit([0.7,0.3])"
   ]
  },
  {
   "cell_type": "code",
   "execution_count": 18,
   "metadata": {},
   "outputs": [],
   "source": [
    "from pyspark.ml.classification import LogisticRegression"
   ]
  },
  {
   "cell_type": "code",
   "execution_count": 19,
   "metadata": {},
   "outputs": [
    {
     "name": "stdout",
     "output_type": "stream",
     "text": [
      "Wall time: 54.2 ms\n"
     ]
    }
   ],
   "source": [
    "%%time\n",
    "log_reg = LogisticRegression(featuresCol='features',labelCol='WINorLOSS_cat')"
   ]
  },
  {
   "cell_type": "code",
   "execution_count": 20,
   "metadata": {},
   "outputs": [
    {
     "name": "stdout",
     "output_type": "stream",
     "text": [
      "Wall time: 10.1 s\n"
     ]
    }
   ],
   "source": [
    "%%time\n",
    "Logistic_Model=log_reg.fit(train_data)"
   ]
  },
  {
   "cell_type": "code",
   "execution_count": 21,
   "metadata": {},
   "outputs": [
    {
     "name": "stdout",
     "output_type": "stream",
     "text": [
      "Wall time: 45.3 ms\n"
     ]
    }
   ],
   "source": [
    "%%time\n",
    "results = Logistic_Model.transform(test_data)"
   ]
  },
  {
   "cell_type": "code",
   "execution_count": 22,
   "metadata": {},
   "outputs": [],
   "source": [
    "from pyspark.ml.evaluation import BinaryClassificationEvaluator"
   ]
  },
  {
   "cell_type": "code",
   "execution_count": 23,
   "metadata": {},
   "outputs": [],
   "source": [
    "my_evaluation = BinaryClassificationEvaluator(rawPredictionCol='prediction',\n",
    "                                       labelCol='WinOrLoss')"
   ]
  },
  {
   "cell_type": "code",
   "execution_count": 24,
   "metadata": {},
   "outputs": [
    {
     "name": "stdout",
     "output_type": "stream",
     "text": [
      "+-------------+----------+\n",
      "|WINorLOSS_cat|prediction|\n",
      "+-------------+----------+\n",
      "|          0.0|       0.0|\n",
      "|          0.0|       0.0|\n",
      "|          0.0|       0.0|\n",
      "|          0.0|       0.0|\n",
      "|          1.0|       1.0|\n",
      "|          0.0|       0.0|\n",
      "|          0.0|       0.0|\n",
      "|          1.0|       1.0|\n",
      "|          0.0|       0.0|\n",
      "|          0.0|       0.0|\n",
      "|          1.0|       1.0|\n",
      "|          1.0|       1.0|\n",
      "|          0.0|       0.0|\n",
      "|          1.0|       1.0|\n",
      "|          0.0|       0.0|\n",
      "|          0.0|       0.0|\n",
      "|          0.0|       0.0|\n",
      "|          0.0|       0.0|\n",
      "|          0.0|       0.0|\n",
      "|          0.0|       0.0|\n",
      "+-------------+----------+\n",
      "only showing top 20 rows\n",
      "\n"
     ]
    }
   ],
   "source": [
    "results.select('WINorLOSS_cat','prediction').show()"
   ]
  },
  {
   "cell_type": "code",
   "execution_count": 25,
   "metadata": {},
   "outputs": [],
   "source": [
    "my_evaluation2 = BinaryClassificationEvaluator(rawPredictionCol='prediction',\n",
    "                                       labelCol='WINorLOSS_cat')"
   ]
  },
  {
   "cell_type": "code",
   "execution_count": 26,
   "metadata": {},
   "outputs": [
    {
     "name": "stdout",
     "output_type": "stream",
     "text": [
      "+-------------+----------+\n",
      "|WINorLOSS_cat|prediction|\n",
      "+-------------+----------+\n",
      "|          0.0|       0.0|\n",
      "|          0.0|       0.0|\n",
      "|          0.0|       0.0|\n",
      "|          0.0|       0.0|\n",
      "|          1.0|       1.0|\n",
      "|          0.0|       0.0|\n",
      "|          0.0|       0.0|\n",
      "|          1.0|       1.0|\n",
      "|          0.0|       0.0|\n",
      "|          0.0|       0.0|\n",
      "|          1.0|       1.0|\n",
      "|          1.0|       1.0|\n",
      "|          0.0|       0.0|\n",
      "|          1.0|       1.0|\n",
      "|          0.0|       0.0|\n",
      "|          0.0|       0.0|\n",
      "|          0.0|       0.0|\n",
      "|          0.0|       0.0|\n",
      "|          0.0|       0.0|\n",
      "|          0.0|       0.0|\n",
      "+-------------+----------+\n",
      "only showing top 20 rows\n",
      "\n"
     ]
    }
   ],
   "source": [
    "results.select('WINorLOSS_cat','prediction',).show()"
   ]
  },
  {
   "cell_type": "code",
   "execution_count": 27,
   "metadata": {},
   "outputs": [],
   "source": [
    "AUC = my_evaluation2.evaluate(results)"
   ]
  },
  {
   "cell_type": "code",
   "execution_count": 28,
   "metadata": {},
   "outputs": [
    {
     "data": {
      "text/plain": [
       "0.9986639809532558"
      ]
     },
     "execution_count": 28,
     "metadata": {},
     "output_type": "execute_result"
    }
   ],
   "source": [
    "AUC"
   ]
  },
  {
   "cell_type": "markdown",
   "metadata": {},
   "source": [
    "# Evaluation"
   ]
  },
  {
   "cell_type": "code",
   "execution_count": 29,
   "metadata": {},
   "outputs": [],
   "source": [
    "evaluator_try_logReg = BinaryClassificationEvaluator(rawPredictionCol='prediction',\n",
    "                                       labelCol='WINorLOSS_cat')"
   ]
  },
  {
   "cell_type": "code",
   "execution_count": 30,
   "metadata": {},
   "outputs": [
    {
     "name": "stdout",
     "output_type": "stream",
     "text": [
      "Test Area Under ROC 0.9986639809532558\n"
     ]
    }
   ],
   "source": [
    "print('Test Area Under ROC', evaluator_try_logReg.evaluate(results))"
   ]
  },
  {
   "cell_type": "markdown",
   "metadata": {},
   "source": [
    "# Random Forest Classifier"
   ]
  },
  {
   "cell_type": "code",
   "execution_count": 31,
   "metadata": {},
   "outputs": [],
   "source": [
    "from pyspark.ml.classification import RandomForestClassifier"
   ]
  },
  {
   "cell_type": "code",
   "execution_count": 32,
   "metadata": {},
   "outputs": [],
   "source": [
    "random_forest = RandomForestClassifier(featuresCol = 'features', labelCol = 'WINorLOSS_cat')"
   ]
  },
  {
   "cell_type": "code",
   "execution_count": 33,
   "metadata": {},
   "outputs": [
    {
     "name": "stdout",
     "output_type": "stream",
     "text": [
      "Wall time: 5.28 s\n"
     ]
    }
   ],
   "source": [
    "%%time\n",
    "RandomForest_Model=random_forest.fit(train_data)"
   ]
  },
  {
   "cell_type": "code",
   "execution_count": 34,
   "metadata": {},
   "outputs": [
    {
     "name": "stdout",
     "output_type": "stream",
     "text": [
      "Wall time: 49.5 ms\n"
     ]
    }
   ],
   "source": [
    "%%time\n",
    "results_rf = RandomForest_Model.transform(test_data)"
   ]
  },
  {
   "cell_type": "code",
   "execution_count": 35,
   "metadata": {},
   "outputs": [],
   "source": [
    "my_evaluation_rf = BinaryClassificationEvaluator(rawPredictionCol='prediction',\n",
    "                                       labelCol='WinOrLoss')"
   ]
  },
  {
   "cell_type": "code",
   "execution_count": 36,
   "metadata": {},
   "outputs": [
    {
     "name": "stdout",
     "output_type": "stream",
     "text": [
      "+-------------+----------+\n",
      "|WINorLOSS_cat|prediction|\n",
      "+-------------+----------+\n",
      "|          0.0|       0.0|\n",
      "|          0.0|       0.0|\n",
      "|          0.0|       0.0|\n",
      "|          0.0|       0.0|\n",
      "|          1.0|       1.0|\n",
      "|          0.0|       0.0|\n",
      "|          0.0|       0.0|\n",
      "|          1.0|       1.0|\n",
      "|          0.0|       0.0|\n",
      "|          0.0|       0.0|\n",
      "|          1.0|       1.0|\n",
      "|          1.0|       1.0|\n",
      "|          0.0|       0.0|\n",
      "|          1.0|       1.0|\n",
      "|          0.0|       0.0|\n",
      "|          0.0|       0.0|\n",
      "|          0.0|       0.0|\n",
      "|          0.0|       0.0|\n",
      "|          0.0|       0.0|\n",
      "|          0.0|       0.0|\n",
      "+-------------+----------+\n",
      "only showing top 20 rows\n",
      "\n"
     ]
    }
   ],
   "source": [
    "results_rf.select('WINorLOSS_cat','prediction').show()"
   ]
  },
  {
   "cell_type": "code",
   "execution_count": 37,
   "metadata": {},
   "outputs": [],
   "source": [
    "my_evaluation2_rf = BinaryClassificationEvaluator(rawPredictionCol='prediction',\n",
    "                                       labelCol='WINorLOSS_cat')"
   ]
  },
  {
   "cell_type": "code",
   "execution_count": 38,
   "metadata": {},
   "outputs": [],
   "source": [
    "AUC_rf = my_evaluation2_rf.evaluate(results_rf)"
   ]
  },
  {
   "cell_type": "code",
   "execution_count": 39,
   "metadata": {},
   "outputs": [
    {
     "data": {
      "text/plain": [
       "0.9295336910023398"
      ]
     },
     "execution_count": 39,
     "metadata": {},
     "output_type": "execute_result"
    }
   ],
   "source": [
    "AUC_rf"
   ]
  },
  {
   "cell_type": "markdown",
   "metadata": {},
   "source": [
    "# Decision Tree Classifier"
   ]
  },
  {
   "cell_type": "code",
   "execution_count": 40,
   "metadata": {},
   "outputs": [],
   "source": [
    "from pyspark.ml.classification import DecisionTreeClassifier"
   ]
  },
  {
   "cell_type": "code",
   "execution_count": 41,
   "metadata": {},
   "outputs": [],
   "source": [
    "decision_tree = DecisionTreeClassifier(featuresCol = 'features', labelCol = 'WINorLOSS_cat',\n",
    "                                      maxDepth=3)"
   ]
  },
  {
   "cell_type": "code",
   "execution_count": 42,
   "metadata": {},
   "outputs": [
    {
     "name": "stdout",
     "output_type": "stream",
     "text": [
      "Wall time: 2.35 s\n"
     ]
    }
   ],
   "source": [
    "%%time\n",
    "DecisionTree_Model=decision_tree.fit(train_data)"
   ]
  },
  {
   "cell_type": "code",
   "execution_count": 43,
   "metadata": {},
   "outputs": [],
   "source": [
    "results_dt = DecisionTree_Model.transform(test_data)"
   ]
  },
  {
   "cell_type": "code",
   "execution_count": 44,
   "metadata": {},
   "outputs": [
    {
     "name": "stdout",
     "output_type": "stream",
     "text": [
      "+-------------+----------+\n",
      "|WINorLOSS_cat|prediction|\n",
      "+-------------+----------+\n",
      "|          0.0|       0.0|\n",
      "|          0.0|       0.0|\n",
      "|          0.0|       0.0|\n",
      "|          0.0|       0.0|\n",
      "|          1.0|       1.0|\n",
      "|          0.0|       0.0|\n",
      "|          0.0|       0.0|\n",
      "|          1.0|       1.0|\n",
      "|          0.0|       0.0|\n",
      "|          0.0|       0.0|\n",
      "|          1.0|       1.0|\n",
      "|          1.0|       0.0|\n",
      "|          0.0|       0.0|\n",
      "|          1.0|       1.0|\n",
      "|          0.0|       0.0|\n",
      "|          0.0|       0.0|\n",
      "|          0.0|       0.0|\n",
      "|          0.0|       0.0|\n",
      "|          0.0|       0.0|\n",
      "|          0.0|       1.0|\n",
      "+-------------+----------+\n",
      "only showing top 20 rows\n",
      "\n"
     ]
    }
   ],
   "source": [
    "results_dt.select('WINorLOSS_cat','prediction').show()"
   ]
  },
  {
   "cell_type": "code",
   "execution_count": 45,
   "metadata": {},
   "outputs": [
    {
     "name": "stdout",
     "output_type": "stream",
     "text": [
      "+-------------+----------+--------------------+\n",
      "|rawPrediction|prediction|         probability|\n",
      "+-------------+----------+--------------------+\n",
      "| [871.0,62.0]|       0.0|[0.93354769560557...|\n",
      "|[1837.0,73.0]|       0.0|[0.96178010471204...|\n",
      "| [258.0,79.0]|       0.0|[0.76557863501483...|\n",
      "|[1837.0,73.0]|       0.0|[0.96178010471204...|\n",
      "|[88.0,1988.0]|       1.0|[0.04238921001926...|\n",
      "|[1837.0,73.0]|       0.0|[0.96178010471204...|\n",
      "| [258.0,79.0]|       0.0|[0.76557863501483...|\n",
      "| [58.0,656.0]|       1.0|[0.08123249299719...|\n",
      "|[1837.0,73.0]|       0.0|[0.96178010471204...|\n",
      "| [871.0,62.0]|       0.0|[0.93354769560557...|\n",
      "+-------------+----------+--------------------+\n",
      "only showing top 10 rows\n",
      "\n"
     ]
    }
   ],
   "source": [
    "results_dt.select('rawPrediction', 'prediction', 'probability').show(10)"
   ]
  },
  {
   "cell_type": "code",
   "execution_count": 46,
   "metadata": {},
   "outputs": [],
   "source": [
    "my_evaluation2_dt = BinaryClassificationEvaluator(rawPredictionCol='prediction',\n",
    "                                       labelCol='WINorLOSS_cat')"
   ]
  },
  {
   "cell_type": "code",
   "execution_count": 47,
   "metadata": {},
   "outputs": [
    {
     "name": "stdout",
     "output_type": "stream",
     "text": [
      "Wall time: 651 ms\n"
     ]
    }
   ],
   "source": [
    "%%time\n",
    "AUC_dt = my_evaluation2_dt.evaluate(results_dt)"
   ]
  },
  {
   "cell_type": "code",
   "execution_count": 48,
   "metadata": {},
   "outputs": [
    {
     "data": {
      "text/plain": [
       "0.8893815471510822"
      ]
     },
     "execution_count": 48,
     "metadata": {},
     "output_type": "execute_result"
    }
   ],
   "source": [
    "AUC_dt"
   ]
  },
  {
   "cell_type": "code",
   "execution_count": null,
   "metadata": {},
   "outputs": [],
   "source": []
  },
  {
   "cell_type": "markdown",
   "metadata": {},
   "source": [
    "# cells below this show the implementation of Pipleline: "
   ]
  },
  {
   "cell_type": "code",
   "execution_count": 111,
   "metadata": {},
   "outputs": [],
   "source": [
    "from pyspark.ml.feature import (VectorAssembler,VectorIndexer,\n",
    "                                OneHotEncoder,StringIndexer)"
   ]
  },
  {
   "cell_type": "code",
   "execution_count": 112,
   "metadata": {},
   "outputs": [],
   "source": [
    "team_indexer = StringIndexer(inputCol='Team',outputCol='TeamIndex')\n",
    "team_encoder = OneHotEncoder(inputCol='TeamIndex',outputCol='TeamVec')\n",
    "\n",
    "home_indexer = StringIndexer(inputCol='Home',outputCol='HomeIndex')\n",
    "home_encoder = OneHotEncoder(inputCol='HomeIndex',outputCol='HomeVec')\n",
    "\n",
    "opponent_main_indexer = StringIndexer(inputCol='Opponent',outputCol='OpponentIndex')\n",
    "opponent_main_encoder = OneHotEncoder(inputCol='OpponentIndex',outputCol='OpponentVec')"
   ]
  },
  {
   "cell_type": "code",
   "execution_count": 88,
   "metadata": {},
   "outputs": [],
   "source": [
    "#winorloss_indexer = StringIndexer(inputCol='WINorLOSS',outputCol='WINorLOSSIndex')\n",
    "#winorloss_encoder = OneHotEncoder(inputCol='WINorLOSSIndex',outputCol='WINorLOSSVec')"
   ]
  },
  {
   "cell_type": "code",
   "execution_count": 113,
   "metadata": {},
   "outputs": [],
   "source": [
    "assembler = VectorAssembler(inputCols=['TeamVec',\n",
    "                            'HomeVec',\n",
    "                            'OpponentVec',\n",
    "                            'TeamPoints',\n",
    "                            'OpponentPoints',\n",
    "                            'FieldGoals',\n",
    "                            'FieldGoalsAttempted',\n",
    "                            'FieldGoalsC',\n",
    "                            'X3PointShots',\n",
    "                            'X3PointShotsAttempted',\n",
    "                            'X3PointShotsC',\n",
    "                            'FreeThrows',\n",
    "                            'FreeThrowsAttempted',\n",
    "                            'FreeThrowsC',\n",
    "                            'OffRebounds',\n",
    "                            'TotalRebounds',\n",
    "                            'Assists',\n",
    "                            'Steals',\n",
    "                            'Blocks',\n",
    "                            'Turnovers',\n",
    "                            'TotalFouls',\n",
    "                            'OppFieldGoals',\n",
    "                            'OppFieldGoalsAttempted',\n",
    "                            'OppFieldGoalsC',\n",
    "                            'Opp3PointShots',\n",
    "                            'Opp3PointShotsAttempted',\n",
    "                            'Opp3PointShotsC',\n",
    "                            'OppFreeThrows',\n",
    "                            'OppFreeThrowsAttempted',\n",
    "                            'OppFreeThrowsC',\n",
    "                            'OppOffRebounds',\n",
    "                            'OppTotalRebounds',\n",
    "                            'OppAssists',\n",
    "                            'OppSteals',\n",
    "                            'OppBlocks',\n",
    "                            'OppTurnovers',\n",
    "                            'OppTotalFouls','WINorLOSS_cat'],outputCol='features')"
   ]
  },
  {
   "cell_type": "code",
   "execution_count": 114,
   "metadata": {},
   "outputs": [],
   "source": [
    "from pyspark.ml.classification import LogisticRegression"
   ]
  },
  {
   "cell_type": "code",
   "execution_count": 115,
   "metadata": {},
   "outputs": [],
   "source": [
    "from pyspark.ml import Pipeline"
   ]
  },
  {
   "cell_type": "code",
   "execution_count": 120,
   "metadata": {},
   "outputs": [],
   "source": [
    "log_reg_nba = LogisticRegression(featuresCol='features',labelCol='WINorLOSS')"
   ]
  },
  {
   "cell_type": "code",
   "execution_count": 121,
   "metadata": {},
   "outputs": [],
   "source": [
    "pipeline = Pipeline(stages=[team_indexer,team_encoder,home_indexer,home_encoder,\n",
    "                            opponent_main_indexer,opponent_main_encoder,assembler,log_reg_nba])"
   ]
  },
  {
   "cell_type": "code",
   "execution_count": 122,
   "metadata": {},
   "outputs": [],
   "source": [
    "train_nba_data, test_nba_data = my_final_data.randomSplit([0.7,.3])"
   ]
  },
  {
   "cell_type": "code",
   "execution_count": 39,
   "metadata": {},
   "outputs": [],
   "source": [
    "#fit_model = pipeline.fit(train_nba_data)"
   ]
  },
  {
   "cell_type": "code",
   "execution_count": 22,
   "metadata": {
    "collapsed": true
   },
   "outputs": [],
   "source": [
    "results = fit_model.transform(test_nba_data)"
   ]
  },
  {
   "cell_type": "code",
   "execution_count": 23,
   "metadata": {
    "collapsed": true
   },
   "outputs": [],
   "source": [
    "from pyspark.ml.evaluation import BinaryClassificationEvaluator"
   ]
  },
  {
   "cell_type": "code",
   "execution_count": 24,
   "metadata": {
    "collapsed": true
   },
   "outputs": [],
   "source": [
    "my_eval = BinaryClassificationEvaluator(rawPredictionCol='prediction',\n",
    "                                       labelCol='Survived')"
   ]
  }
 ],
 "metadata": {
  "anaconda-cloud": {},
  "kernelspec": {
   "display_name": "Python 3",
   "language": "python",
   "name": "python3"
  },
  "language_info": {
   "codemirror_mode": {
    "name": "ipython",
    "version": 3
   },
   "file_extension": ".py",
   "mimetype": "text/x-python",
   "name": "python",
   "nbconvert_exporter": "python",
   "pygments_lexer": "ipython3",
   "version": "3.6.4"
  }
 },
 "nbformat": 4,
 "nbformat_minor": 1
}
